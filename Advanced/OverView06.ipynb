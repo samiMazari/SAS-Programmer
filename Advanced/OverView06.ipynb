{
 "cells": [
  {
   "cell_type": "markdown",
   "id": "de852659-82af-4fd1-b61b-02d6017e4871",
   "metadata": {},
   "source": [
    "# Chapter 6: PROC SQL\n",
    "\n",
    "## Introduction to PROC SQL\n",
    "\n",
    "SQL (Structured Query Language) is widely used for managing relational databases. It was developed by IBM in the 1970s and is supported by various DBMSs, including SAP Business Object, MySQL, and SAS.\n",
    "\n",
    "PROC SQL in SAS serves as an alternative to the DATA step and PROC procedures. It allows:\n",
    "- Creating SAS tables\n",
    "- Listing table contents (variables, names, labels)\n",
    "- Sorting tables\n",
    "- Generating descriptive statistics\n",
    "- Performing table joins (merging multiple tables)\n",
    "\n",
    "---\n",
    "\n",
    "## Differences Between PROC SQL and DATA & PROC Steps\n",
    "\n",
    "### Syntax Differences\n",
    "\n",
    "#### 1) Separators in Variable Lists\n",
    "- In DATA and PROC steps, variables are separated by spaces:"
   ]
  },
  {
   "cell_type": "code",
   "execution_count": null,
   "id": "a48354f0-ef9c-4572-9984-3ef4af529151",
   "metadata": {},
   "outputs": [],
   "source": [
    "var ident jobcode wage;"
   ]
  },
  {
   "cell_type": "markdown",
   "id": "8f3a5645-50b3-43e4-a54e-18af4f073e9f",
   "metadata": {},
   "source": [
    "- In PROC SQL, variables are separated by commas :"
   ]
  },
  {
   "cell_type": "code",
   "execution_count": null,
   "id": "28a3d4e5-031d-47bf-9874-7b22b4c38407",
   "metadata": {},
   "outputs": [],
   "source": [
    " select ident, jobcode, wage;"
   ]
  },
  {
   "cell_type": "markdown",
   "id": "adbd039d-5def-431c-80a4-66981a9c8486",
   "metadata": {},
   "source": [
    "#### 2) Ending the Procedure\n",
    "- PROC SQL ends with `quit;` instead of `run;`.\n",
    "\n",
    "#### 3) Syntax Structure\n",
    "```sas\n",
    "proc sql <options>;\n",
    "  SQL statements;\n",
    "quit;\n",
    "```\n",
    "- `quit;` is mandatory to end PROC SQL.\n",
    "- The order of statements is flexible.\n",
    "- SQL statements are exclusive to PROC SQL, except for some (e.g., `title`, `drop=`, `keep=`).\n",
    "\n",
    "#### 4) Example: Simple Query"
   ]
  },
  {
   "cell_type": "code",
   "execution_count": null,
   "id": "05615996-4c2a-4e07-ad1b-8414c8e8ef59",
   "metadata": {},
   "outputs": [],
   "source": [
    "libname in 'd:\\mesfichierssas';\n",
    "proc sql;\n",
    "  title 'Example Query';\n",
    "  select ident, jobcode, salary\n",
    "  from in.payroll\n",
    "  where jobcode contains 'NA'\n",
    "  order by salary descending;\n",
    "quit;"
   ]
  },
  {
   "cell_type": "markdown",
   "id": "47edad9e-77a9-453f-b134-fce99271530e",
   "metadata": {},
   "source": [
    "## 1) Creating a Database"
   ]
  },
  {
   "cell_type": "code",
   "execution_count": null,
   "id": "892183d1-3128-4d64-bf87-1e8973df76a1",
   "metadata": {},
   "outputs": [],
   "source": [
    "proc sql;\n",
    "  create table employees (\n",
    "    id num,\n",
    "    name char(50),\n",
    "    salary num\n",
    "  );\n",
    "quit;"
   ]
  },
  {
   "cell_type": "markdown",
   "id": "13d3f68c-e33c-4f00-9dc5-aff0fbd20242",
   "metadata": {},
   "source": [
    "## 2) The `SELECT` Statement as an Alternative to PROC PRINT"
   ]
  },
  {
   "cell_type": "code",
   "execution_count": null,
   "id": "7eb5001d-ccb3-40fe-88dd-fd808b6953eb",
   "metadata": {},
   "outputs": [],
   "source": [
    "proc sql;\n",
    "  select * from employees;\n",
    "quit;"
   ]
  },
  {
   "cell_type": "markdown",
   "id": "03d4cc87-ce10-469f-918b-cf63de33aedb",
   "metadata": {},
   "source": [
    "## 3) `CREATE TABLE` with Additional Features\n",
    "### Creating Variables"
   ]
  },
  {
   "cell_type": "code",
   "execution_count": null,
   "id": "bfcb1db1-7336-4061-b5bb-636eef26d9a0",
   "metadata": {},
   "outputs": [],
   "source": [
    "proc sql;\n",
    "  create table new_table as\n",
    "  select id, name, salary, salary*1.1 as new_salary\n",
    "  from employees;\n",
    "quit;"
   ]
  },
  {
   "cell_type": "markdown",
   "id": "a97b0eaa-5a28-4789-b51a-6e7cb3e8379f",
   "metadata": {},
   "source": [
    "### Descriptive Statistics"
   ]
  },
  {
   "cell_type": "code",
   "execution_count": null,
   "id": "d5e56a72-2a22-409f-ab0e-44ca8b85bdb7",
   "metadata": {},
   "outputs": [],
   "source": [
    "proc sql;\n",
    "  select avg(salary) as avg_salary, max(salary) as max_salary\n",
    "  from employees;\n",
    "quit;"
   ]
  },
  {
   "cell_type": "markdown",
   "id": "d12c57d7-3136-43df-85bb-b72ffca08bf0",
   "metadata": {},
   "source": [
    "### Grouping Data (`BY`, `CLASS`, `GROUP BY`)"
   ]
  },
  {
   "cell_type": "code",
   "execution_count": null,
   "id": "ede5a70d-a687-4300-8399-3a30fbdae2ca",
   "metadata": {},
   "outputs": [],
   "source": [
    "proc sql;\n",
    "  select jobcode, avg(salary) as avg_salary\n",
    "  from employees\n",
    "  group by jobcode;\n",
    "quit;"
   ]
  },
  {
   "cell_type": "markdown",
   "id": "0ecc28c3-3a27-4c18-b898-5c197c310bc0",
   "metadata": {},
   "source": [
    "### Conditional Statements (`IF…THEN…ELSE` Equivalent)"
   ]
  },
  {
   "cell_type": "code",
   "execution_count": null,
   "id": "a4266a2d-ecf3-4992-bec3-a43e27d3c07d",
   "metadata": {},
   "outputs": [],
   "source": [
    "proc sql;\n",
    "  select name, salary,\n",
    "    case when salary > 50000 then 'High'\n",
    "         else 'Low' end as salary_category\n",
    "  from employees;\n",
    "quit;"
   ]
  },
  {
   "cell_type": "markdown",
   "id": "68c67d79-6ccd-47e8-974b-b95abc04ab9b",
   "metadata": {},
   "source": [
    "### Filtering Data (`WHERE` Clause) "
   ]
  },
  {
   "cell_type": "code",
   "execution_count": null,
   "id": "91363b45-cae2-4fd0-b698-b2d33b3be294",
   "metadata": {},
   "outputs": [],
   "source": [
    "proc sql;\n",
    "  select * from employees\n",
    "  where salary > 40000;\n",
    "quit;"
   ]
  },
  {
   "cell_type": "markdown",
   "id": "eb7932cc-29b8-472e-a8d8-4385263c196d",
   "metadata": {},
   "source": [
    "### Sorting Data (Ascending/Descending Order)"
   ]
  },
  {
   "cell_type": "code",
   "execution_count": null,
   "id": "4af427b1-8cb2-4e19-9aa6-1c0a96e63e91",
   "metadata": {},
   "outputs": [],
   "source": [
    "proc sql;\n",
    "  select distinct jobcode from employees;\n",
    "quit;"
   ]
  },
  {
   "cell_type": "markdown",
   "id": "5801eda7-1562-4063-aa91-b533cb80560e",
   "metadata": {},
   "source": [
    "## 4) Computing Statistics While Removing Duplicates"
   ]
  },
  {
   "cell_type": "code",
   "execution_count": null,
   "id": "3f252502-1ae4-4acd-97dc-643963c389b0",
   "metadata": {},
   "outputs": [],
   "source": [
    "proc sql;\n",
    "  select jobcode, avg(salary) as avg_salary\n",
    "  from (select distinct * from employees)\n",
    "  group by jobcode;\n",
    "quit;"
   ]
  },
  {
   "cell_type": "markdown",
   "id": "3084f302-96c6-4966-80bd-aa91b2876a52",
   "metadata": {},
   "source": [
    "## 5) Inserting Statistics into a Table"
   ]
  },
  {
   "cell_type": "code",
   "execution_count": null,
   "id": "c95d8e03-cdd0-4bc0-af21-cb2ba2cd19cf",
   "metadata": {},
   "outputs": [],
   "source": [
    "proc sql;\n",
    "  create table summary as\n",
    "  select jobcode, avg(salary) as avg_salary\n",
    "  from employees\n",
    "  group by jobcode;\n",
    "quit;"
   ]
  },
  {
   "cell_type": "markdown",
   "id": "99b8a798-0591-4661-9423-5873f6261871",
   "metadata": {},
   "source": [
    "## 6) Table Joins in PROC SQL\n",
    "### Cross Join"
   ]
  },
  {
   "cell_type": "code",
   "execution_count": null,
   "id": "4fcb2d56-51c1-4582-9927-e052cc2c8f16",
   "metadata": {},
   "outputs": [],
   "source": [
    "proc sql;\n",
    "  select * from table1, table2;\n",
    "quit;"
   ]
  },
  {
   "cell_type": "markdown",
   "id": "5df07205-a4b2-4796-8b52-61b45f8ac0c2",
   "metadata": {},
   "source": [
    "### Full Join"
   ]
  },
  {
   "cell_type": "code",
   "execution_count": null,
   "id": "e6b7f1ec-1a76-4e4f-82ef-4784a92c5c51",
   "metadata": {},
   "outputs": [],
   "source": [
    "proc sql;\n",
    "  select * from table1\n",
    "  full join table2\n",
    "  on table1.id = table2.id;\n",
    "quit;"
   ]
  },
  {
   "cell_type": "markdown",
   "id": "9285a659-634d-4290-bc60-8d4237264a55",
   "metadata": {},
   "source": [
    "### Left Join"
   ]
  },
  {
   "cell_type": "code",
   "execution_count": null,
   "id": "5f143e80-dd80-44fa-b536-024ebae42016",
   "metadata": {},
   "outputs": [],
   "source": [
    "proc sql;\n",
    "  select * from table1\n",
    "  left join table2\n",
    "  on table1.id = table2.id;\n",
    "quit;"
   ]
  },
  {
   "cell_type": "markdown",
   "id": "7db16d91-7533-4d5a-8954-e15ea0fc5f76",
   "metadata": {},
   "source": [
    "### Right Join"
   ]
  },
  {
   "cell_type": "code",
   "execution_count": null,
   "id": "f5709ef6-730f-4b7d-a640-4b34711f1c93",
   "metadata": {},
   "outputs": [],
   "source": [
    "proc sql;\n",
    "  select * from table1\n",
    "  right join table2\n",
    "  on table1.id = table2.id;\n",
    "quit;"
   ]
  },
  {
   "cell_type": "markdown",
   "id": "83086d84-fe42-42de-bb63-4a1d7a48f200",
   "metadata": {},
   "source": [
    "### Inner Join"
   ]
  },
  {
   "cell_type": "code",
   "execution_count": null,
   "id": "25b9436e-3424-4d5b-b8e6-22f15e30ed32",
   "metadata": {},
   "outputs": [],
   "source": [
    "proc sql;\n",
    "  select * from table1\n",
    "  inner join table2\n",
    "  on table1.id = table2.id;\n",
    "quit;"
   ]
  },
  {
   "cell_type": "markdown",
   "id": "0ea70248-b4d3-4bf9-a784-71c29deb89c9",
   "metadata": {},
   "source": [
    "<br>\n",
    "\n",
    "<div align=\"center\">\n",
    "  <span style=\"font-family: sans-serif; font-size: 24px; color: Black;\">\n",
    "     This document provides an overview of PROC SQL and its applications in SAS.\n",
    "  </span>\n",
    "</div>"
   ]
  },
  {
   "cell_type": "code",
   "execution_count": null,
   "id": "37561119-c3f9-4e29-8089-f6d0f17a9796",
   "metadata": {},
   "outputs": [],
   "source": []
  }
 ],
 "metadata": {
  "kernelspec": {
   "display_name": "Python 3 (ipykernel)",
   "language": "python",
   "name": "python3"
  },
  "language_info": {
   "codemirror_mode": {
    "name": "ipython",
    "version": 3
   },
   "file_extension": ".py",
   "mimetype": "text/x-python",
   "name": "python",
   "nbconvert_exporter": "python",
   "pygments_lexer": "ipython3",
   "version": "3.12.7"
  }
 },
 "nbformat": 4,
 "nbformat_minor": 5
}
