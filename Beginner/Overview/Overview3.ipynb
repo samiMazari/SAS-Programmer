{
 "cells": [
  {
   "cell_type": "markdown",
   "id": "437d90d2-8c6c-4d3c-9a9e-c92f306f82c6",
   "metadata": {},
   "source": [
    "<h1 style=\"color:blue;\">Overview 3: Concatenation and Merging of Tables</h1>"
   ]
  },
  {
   "cell_type": "markdown",
   "id": "82897bb3-08a6-46eb-ab43-9bd2d0b5c5ca",
   "metadata": {},
   "source": [
    "One of the main advantages of SAS is the ability to combine multiple tables to create a new table.  \n",
    "Two possibilities are offered: **concatenation** and **merging**.\n",
    "\n",
    "## 1. Concatenation\n",
    "\n",
    "Concatenation involves \"vertically stacking\" the observations from two tables, `tab1` and `tab2`, so that only one table is produced. This is done using the `Set` statement.  \n",
    "\n",
    "**Example:** Consider the following two tables, `tab1` and `tab2`:\n",
    "\n",
    "### Tab1\n",
    "| Name  | Score |\n",
    "|-------|-------|\n",
    "| toto  | 10    |\n",
    "| titi  | 09    |\n",
    "| tata  | 15    |\n",
    "\n",
    "### Tab2\n",
    "| Name  | Score |\n",
    "|-------|-------|\n",
    "| titi  | 12    |\n",
    "| tutu  | 13    |\n",
    "\n",
    "The following program:  "
   ]
  },
  {
   "cell_type": "code",
   "execution_count": null,
   "id": "5b815187-c4bb-416b-ae08-8c10bf59c4a3",
   "metadata": {},
   "outputs": [],
   "source": [
    "Data tab3; set Tab1 Tab2;\n",
    "Run;"
   ]
  },
  {
   "cell_type": "markdown",
   "id": "051bd3e8-94f6-4f9d-bcb0-306f1bef009c",
   "metadata": {},
   "source": [
    "Results in the following table:"
   ]
  },
  {
   "cell_type": "markdown",
   "id": "b21625b4-f526-4510-9a31-9e646eac8fc6",
   "metadata": {},
   "source": [
    "**Tab3**\n",
    "| Name  | Score |\n",
    "|-------|-------|\n",
    "| toto  | 10    |\n",
    "| titi  | 09    |\n",
    "| tata  | 15    |\n",
    "| titi  | 12    |\n",
    "| tutu  | 13    |\n"
   ]
  },
  {
   "cell_type": "markdown",
   "id": "9ac7c5fa-91c7-4e82-8e8e-8b909a62b0a8",
   "metadata": {},
   "source": [
    "- Columns with the same name are merged into a single column.  \n",
    "- The individuals in `Tab2` are appended to those in `Tab1` without sorting.\n",
    "\n",
    "### Interleaving of Two (or More) Tables\n",
    "\n",
    "In the previous example, the name \"Titi\" is positioned according to its order of appearance in both `Tab1` and `Tab2`.\n",
    "\n",
    "**Alternative:** Names can be ordered alphabetically in `Tab3`. To do this:\n"
   ]
  },
  {
   "cell_type": "code",
   "execution_count": null,
   "id": "80266889-cdca-4702-9d9b-09a9bdbcdec4",
   "metadata": {},
   "outputs": [],
   "source": [
    "Proc sort data=Tab1;\n",
    "By name;\n",
    "Run;\n",
    "\n",
    "Proc sort data =Tab2;\n",
    "By name;\n",
    "Run;\n",
    "\n",
    "Data Tab3; \n",
    "Set Tab1 Tab2;\n",
    "By name;\n",
    "Run;"
   ]
  },
  {
   "cell_type": "markdown",
   "id": "5cb14f71-3d91-4420-9b4d-efbc5f113db4",
   "metadata": {},
   "source": [
    "**Important:**  \n",
    "For interleaving of tables, they need to be sorted first using the `Proc Sort` statement, with a defined sorting key (`By` statement).\n",
    "\n",
    "The same result can be achieved with a simple concatenation followed by sorting on the newly created table:\n"
   ]
  },
  {
   "cell_type": "code",
   "execution_count": null,
   "id": "3a4adf31-4001-4a6b-84c3-5f05d63950e6",
   "metadata": {},
   "outputs": [],
   "source": [
    "Data Tab3; Set Tab1 Tab2;\n",
    "Run;\n",
    "\n",
    "Proc sort data=Tab3;\n",
    "By name;\n",
    "Run;"
   ]
  },
  {
   "cell_type": "markdown",
   "id": "cedd9e55-ff5e-4c9d-b5e7-83d910ba5e2e",
   "metadata": {},
   "source": [
    "**Distinction Based on Data Source**  \n",
    "  - Suppose the scores from the two tables have different meanings.   \n",
    "  - You can create two different variables for \"score\" as follows:   "
   ]
  },
  {
   "cell_type": "code",
   "execution_count": null,
   "id": "8d79f17a-cfa7-4425-8068-2e32070ceda5",
   "metadata": {},
   "outputs": [],
   "source": [
    "Data Tab3;\n",
    "Set Tab1 Tab2(Rename =(score=score1));\n",
    "Run;"
   ]
  },
  {
   "cell_type": "markdown",
   "id": "de938b9f-b166-4262-9650-4a5473fe3187",
   "metadata": {},
   "source": [
    "Tab3\n",
    "| Name  | Score | Score1 |\n",
    "|-------|-------|--------|\n",
    "| toto  | 10    |    .   |\n",
    "| titi  | 09    |    .   |\n",
    "| tata  | 15    |    .   |\n",
    "| tata  |  .    |   12   |\n",
    "| tata  |   .   |   13   |\n"
   ]
  },
  {
   "cell_type": "markdown",
   "id": "912ea221-ef73-437c-b06f-4af81e20f640",
   "metadata": {},
   "source": [
    "**Note the importance** of the placement of options like Drop, Keep, and Rename between the Data or Set statement.\n",
    "\n",
    "The drawback of this method is the creation of missing values.\n",
    "Another approach is to create a variable to identify the source of the observations.\n"
   ]
  },
  {
   "cell_type": "code",
   "execution_count": null,
   "id": "52f1f8b5-e262-4666-ba7d-c75632f6b241",
   "metadata": {},
   "outputs": [],
   "source": [
    "Data Tab3; Set Tab1(in=ori);\n",
    "If ori =1 then source=\"a\"; Else source=\"b\";\n",
    "Run;"
   ]
  },
  {
   "cell_type": "markdown",
   "id": "73c35af1-cad5-444b-ae00-a45c07b6fb84",
   "metadata": {},
   "source": [
    "**Tab3**   \n",
    "| Name | Score | Source |\n",
    "|------|-------|--------|\n",
    "| toto | 10    | a      |\n",
    "| titi | 09    | a      |\n",
    "| tata | 15    | a      |\n",
    "| titi | 12    | b      |\n",
    "| tutu | 13    | b      |\n"
   ]
  },
  {
   "cell_type": "markdown",
   "id": "9ae9eb2b-b0b7-4e42-80f3-21f0da985bbc",
   "metadata": {},
   "source": [
    "**2. Merging Multiple Tables**\n",
    "Often, we want to combine information for the same individual (statistically speaking) that is spread across multiple tables.\n",
    "To do this, we use the Merge statement, always paired with a By statement based on the individual for merging.\n",
    "\n",
    "Consider the following tables:"
   ]
  },
  {
   "cell_type": "markdown",
   "id": "769edaa9-14c5-44a2-ae31-36e132bcc889",
   "metadata": {},
   "source": [
    " **Tab1**\n",
    "| Company  | Revenue | NACE |\n",
    "|----------|---------|------|\n",
    "| Valeo    | 100     | 32   |\n",
    "| Peugeot  | 760     | 33   |\n",
    "| Airbus   | 1500    | 41   |\n",
    "| Vallourec| 350     | 53   |\n",
    "\n",
    " **Tab02**\n",
    "| Company  | Profit |\n",
    "|----------|--------|\n",
    "| Valeo    | -12    |\n",
    "| Peugeot  | -13    |\n",
    "| Airbus   | 174    |\n",
    "| Vallourec| 27     |\n",
    "\n",
    " "
   ]
  },
  {
   "cell_type": "markdown",
   "id": "dab056d5-a509-4331-a44c-111df7edcf74",
   "metadata": {},
   "source": [
    "The goal is to merge Tab1 and Tab2 so that we have all information (Revenue, Profit, and NACE code) for each company in one table (Tab3) for the year 2009."
   ]
  },
  {
   "cell_type": "code",
   "execution_count": null,
   "id": "46ac28c5-043b-4a53-bdf9-43d26e0ac0bf",
   "metadata": {},
   "outputs": [],
   "source": [
    "Proc sort data=tab1;\n",
    "By Company;\n",
    "Run;\n",
    "Proc sort data=tab2;\n",
    "By Company;\n",
    "Run;\n",
    "Data Tab3;\n",
    "Merge Tab1 Tab2;\n",
    "By Company;\n",
    "Run;\n"
   ]
  },
  {
   "cell_type": "markdown",
   "id": "28df5358-7661-4086-a20a-87f139a482c4",
   "metadata": {},
   "source": [
    "**Tab03**\n",
    "| Company  | Revenue | NACE | Profit |\n",
    "|----------|---------|------|--------|\n",
    "| Airbus   | 1500    | 41   | 174    |\n",
    "| Bouygues | 1235    | 21   | .      |\n",
    "| Peugeot  | 760     | 33   | -13    |\n",
    "| Valeo    | 100     | 32   | -12    |\n",
    "| Vallourec| 350     | 53   | 27     |\n"
   ]
  },
  {
   "cell_type": "markdown",
   "id": "a3ee2cdf-0072-4bce-a95c-8775b5381d0d",
   "metadata": {},
   "source": [
    "If the two tables have different numbers of individuals, the new table will have as many rows/individuals as the larger of the two tables.\n",
    "To fix this, we use:"
   ]
  },
  {
   "cell_type": "code",
   "execution_count": null,
   "id": "df27dcdc-cc0e-4cc7-a7c7-10af1e67a137",
   "metadata": {},
   "outputs": [],
   "source": [
    "Data Tab3;\n",
    "Merge Tab1(in=in1) Tab2(in=in2);\n",
    "By Company;\n",
    "If in1=1 and in2=1;\n",
    "Run;\n"
   ]
  },
  {
   "cell_type": "markdown",
   "id": "26ca45dd-7047-4918-be66-0779b71abf88",
   "metadata": {},
   "source": [
    "This ensures that only companies present in both tables will be included."
   ]
  },
  {
   "cell_type": "markdown",
   "id": "a431da98-71ac-4886-aba9-f6778bc23335",
   "metadata": {},
   "source": [
    "**Tab3**\n",
    "| Company  | Revenue | NACE | Profit |\n",
    "|----------|---------|------|--------|\n",
    "| Airbus   | 1500    | 41   | 174    |\n",
    "| Peugeot  | 760     | 33   | -13    |\n",
    "| Valeo    | 100     | 32   | -12    |\n",
    "| Vallourec| 350     | 53   | 27     |\n"
   ]
  },
  {
   "cell_type": "markdown",
   "id": "964887e1-4315-444b-a684-2889810ad2aa",
   "metadata": {},
   "source": [
    "What Happens if the Merge is Done Without By?\n",
    "If Tab1 and Tab2 have the same number of rows, and you rename the Company column in one of the tables, the result will be a horizontal concatenation."
   ]
  },
  {
   "cell_type": "markdown",
   "id": "2909dfa5-6bdd-4aed-ab94-72f8152a2ff2",
   "metadata": {},
   "source": [
    "**Tab03**\n",
    "| Company  | Revenue | NACE | Company_1 | Profit |\n",
    "|----------|---------|------|-----------|--------|\n",
    "| Valeo    | 100     | 32   | Valeo     | -12    |\n",
    "| Peugeot  | 760     | 33   | Peugeot   | -13    |\n",
    "| Airbus   | 1500    | 41   | Airbus    | 174    |\n",
    "| Vallourec| 350     | 53   | Vallourec | 27     |\n"
   ]
  },
  {
   "cell_type": "markdown",
   "id": "4c344809-fb9c-4fee-87e7-4174f8ef2d8f",
   "metadata": {},
   "source": [
    "---"
   ]
  },
  {
   "cell_type": "code",
   "execution_count": null,
   "id": "68864b1f-4367-4eb3-93c5-99c11faf3e53",
   "metadata": {},
   "outputs": [],
   "source": []
  }
 ],
 "metadata": {
  "kernelspec": {
   "display_name": "Python 3 (ipykernel)",
   "language": "python",
   "name": "python3"
  },
  "language_info": {
   "codemirror_mode": {
    "name": "ipython",
    "version": 3
   },
   "file_extension": ".py",
   "mimetype": "text/x-python",
   "name": "python",
   "nbconvert_exporter": "python",
   "pygments_lexer": "ipython3",
   "version": "3.12.7"
  }
 },
 "nbformat": 4,
 "nbformat_minor": 5
}
