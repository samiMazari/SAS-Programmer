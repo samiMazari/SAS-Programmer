{
 "cells": [
  {
   "cell_type": "markdown",
   "id": "fbc13171-ecc0-4bae-a287-e3a1ebb1891f",
   "metadata": {},
   "source": [
    "# Overview 04 : The different types of Proc Steps\n",
    "\n",
    "## The proc step complements the Data step.\n",
    "\n",
    "### Three main functions:\n",
    "\n",
    "1) Statistical processing  \n",
    "2) Econometric processing  \n",
    "3) Data formatting (graphs, table presentation, etc.)\n",
    "\n",
    "This chapter focuses on **point 1: Statistical processing**.\n",
    "\n",
    "---\n"
   ]
  },
  {
   "cell_type": "markdown",
   "id": "6a28ee0d-970e-4190-a93f-103034fe57e7",
   "metadata": {},
   "source": [
    "## I – General Structure of a PROC"
   ]
  },
  {
   "cell_type": "code",
   "execution_count": null,
   "id": "f0900554-ac60-457f-9edf-145968fdf6fe",
   "metadata": {},
   "outputs": [],
   "source": [
    "Proc XXX <procedure_options> ;\n",
    "Instruction1 </instruction1_options> ;\n",
    "...\n",
    "...\n",
    "Instructionp </instructionp_options> ;\n",
    "Run ;"
   ]
  },
  {
   "cell_type": "markdown",
   "id": "cbb25a26-1a14-42a6-8633-0a1bcf865a25",
   "metadata": {},
   "source": [
    "The syntax always starts the same way:  \n",
    "- `Proc` + the name of the procedure\n",
    "- Generally, Procs provide multiple instructions to be used depending on the problem to solve.\n",
    "- Instructions may have options.\n",
    "- **Important:** Separate instructions and options with `/`.\n",
    "\n",
    "**Tip:** If multiple Procs follow one another in a program, a single `run` is sufficient to execute them all. However, it is recommended to place a `run` after each Proc for debugging purposes.\n",
    "\n",
    "**Reminder:** Some Procs require `quit` instead of `run` (e.g., `proc sql`, `proc model`).\n"
   ]
  },
  {
   "cell_type": "markdown",
   "id": "c7d554e5-0532-4001-886f-d3667edab94a",
   "metadata": {},
   "source": [
    "### Essential Instructions\n",
    "\n",
    "- **Var** → Specifies the variable(s) to be used.\n",
    "- **By** → Creates sub-populations.\n",
    "    - If `BY var` is specified in a PROC, as many Procs will be executed as there are unique values in `var`.\n",
    "\n",
    "#### Output Storage\n",
    "\n",
    "- `Output` → Stores all or part of the results of a Proc in an output table."
   ]
  },
  {
   "cell_type": "code",
   "execution_count": null,
   "id": "07ed5abd-1bc1-45fe-aaac-7cd43db17ea5",
   "metadata": {},
   "outputs": [],
   "source": [
    "Output out=output_table Keywords;"
   ]
  },
  {
   "cell_type": "markdown",
   "id": "00f26c4a-1589-4763-9055-260dafcefc69",
   "metadata": {},
   "source": [
    "- `Where` → Selects specific observations.\n",
    "\n",
    "**Warning:** The `If…then…else` instruction **cannot** be used in a Proc."
   ]
  },
  {
   "cell_type": "markdown",
   "id": "624b1dc1-7a66-45d0-8042-121ea55ba95a",
   "metadata": {},
   "source": [
    "## II – PROC MEANS\n",
    "\n",
    "`PROC MEANS` generates **descriptive statistics** for continuous quantitative variables (mean, standard deviation, quartiles, etc.).   \n",
    "\n",
    "### Syntax:"
   ]
  },
  {
   "cell_type": "code",
   "execution_count": null,
   "id": "f1f68b66-1228-4636-8e24-b35f2797bc58",
   "metadata": {},
   "outputs": [],
   "source": [
    "PROC MEANS data=input_table options ; \n",
    "VAR list_of_quantitative_variables ; \n",
    "BY variable(s) ;  \n",
    "CLASS variable(s) ; \n",
    "TYPES variable1*variablep;\n",
    "WEIGHT variable ;  \n",
    "ID variable ;  \n",
    "OUTPUT OUT=output_table \n",
    "statistic1=name1_in_output_table \n",
    "statisticp=namep_in_output_table ; "
   ]
  },
  {
   "cell_type": "markdown",
   "id": "9b1ad94c-1e8b-47b1-ab76-62bf3feb47a1",
   "metadata": {},
   "source": [
    "### Important Instructions:\n",
    "\n",
    "- **Var** → Variables to compute statistics on.\n",
    "- **By** → Produces statistics grouped by variable values.  \n",
    "  - **Note:** The table must be sorted beforehand using `PROC SORT`.\n",
    "- **Class** → Computes statistics based on classification variables.  \n",
    "  - Unlike `By`, sorting is not required.\n",
    "- **Types** → Crosses classification variables.\n",
    "- **Weight** → Introduces a weighting variable.\n",
    "- **ID** → If an output table is created, stores the **maximum value** of the `ID` variable.\n",
    "- **Output** → Saves selected statistics in a table."
   ]
  },
  {
   "cell_type": "markdown",
   "id": "44237bbb-b462-46ee-b754-41fed43c7409",
   "metadata": {},
   "source": [
    "### Common Statistics in PROC MEANS\n",
    "\n",
    "| Statistic | Description |\n",
    "|-----------|------------|\n",
    "| **N** | Number of observations |\n",
    "| **NMISS** | Number of missing values |\n",
    "| **MIN** | Minimum value |\n",
    "| **MAX** | Maximum value |\n",
    "| **RANGE** | Max - Min |\n",
    "| **SUM** | Sum |\n",
    "| **MEAN** | Mean |\n",
    "| **STD** | Standard deviation |\n",
    "| **KURTOSIS** | Kurtosis coefficient |\n",
    "| **SKEWNESS** | Skewness coefficient |\n",
    "| **USS** | Sum of squares |\n",
    "| **CSS** | Sum of squared deviations from mean |\n",
    "| **CV** | Coefficient of variation |\n"
   ]
  },
  {
   "cell_type": "markdown",
   "id": "1b9919e3-79ee-470b-8a70-329a861884bc",
   "metadata": {},
   "source": [
    "### Example Application"
   ]
  },
  {
   "cell_type": "code",
   "execution_count": null,
   "id": "e41fe790-302e-4f8b-98f4-cbcc1ec11d8c",
   "metadata": {},
   "outputs": [],
   "source": [
    "Proc means data=temp; run;"
   ]
  },
  {
   "cell_type": "markdown",
   "id": "7907966e-e256-42a8-90ed-11060ef9226b",
   "metadata": {},
   "source": [
    "Example output:\n",
    "\n",
    "| Variable | N | Mean | Std Dev | Min | Max |\n",
    "|----------|----|------|---------|-----|-----|\n",
    "| date_nais | 20 | 1957.80 | 17.34 | 1929.00 | 1980.00 |\n",
    "| conso | 18 | 22.99 | 11.20 | 6.10 | 40.70 |\n",
    "| budget | 19 | 24.57 | 12.47 | 6.20 | 44.70 |\n"
   ]
  },
  {
   "cell_type": "markdown",
   "id": "035d062a-7f20-4cd6-91f8-67e07f82a5a2",
   "metadata": {},
   "source": [
    "## III – PROC UNIVARIATE\n",
    "\n",
    "`PROC UNIVARIATE` produces **descriptive statistics** on numerical variables and **visualizations**.\n",
    "\n",
    "It is similar to `PROC MEANS` but has additional features:\n",
    "\n",
    "1) **Plots distributions of statistical variables**  \n",
    "2) **Performs statistical tests** (confidence intervals, normality tests)\n",
    "\n",
    "### Syntax:"
   ]
  },
  {
   "cell_type": "code",
   "execution_count": null,
   "id": "e2563d0d-7d24-4448-84e7-4f4ac37dd070",
   "metadata": {},
   "outputs": [],
   "source": [
    "Proc univariate data=input_table options ; \n",
    "Var list_of_quantitative_variables ;\n",
    "By variable(s) ;  \n",
    "Class variable(s) ; \n",
    "Weight variable ;  \n",
    "ID variable ; \n",
    "Histogram variable(s) / options ; \n",
    "QQplot variable(s) / options ; \n",
    "Probplot variable(s) / options ; \n",
    "Inset keyword(s) data=input_table option(s);\n",
    "Output out=output_table\n",
    "statistic1=name1_in_output_table \n",
    "statisticp=namep_in_output_table ;"
   ]
  },
  {
   "cell_type": "markdown",
   "id": "89b26dcb-d641-4fe8-9c3c-4cbfda696e9a",
   "metadata": {},
   "source": [
    "### Histogram Example:"
   ]
  },
  {
   "cell_type": "code",
   "execution_count": null,
   "id": "87ff6c87-591c-4103-b5c3-d3ea266971d9",
   "metadata": {},
   "outputs": [],
   "source": [
    "Proc univariate data=temp noprint;\n",
    "Histogram conso budget ;\n",
    "run;"
   ]
  },
  {
   "cell_type": "markdown",
   "id": "c7b5f769-e4b9-40b4-b806-489cef1c6317",
   "metadata": {},
   "source": [
    "**- Adding Options :**"
   ]
  },
  {
   "cell_type": "code",
   "execution_count": null,
   "id": "0dc7f9b9-5ceb-4b3c-a094-6609596c05ee",
   "metadata": {},
   "outputs": [],
   "source": [
    "Proc univariate data=temp noprint;\n",
    "Histogram conso/ midpoints=10 15 20 25 30 35 40 vaxislabel=\"Frequencies\";\n",
    "Histogram budget/ Normal vaxislabel=\"Frequencies\";\n",
    "run;"
   ]
  },
  {
   "cell_type": "markdown",
   "id": "e61f057e-27f4-4b35-84b9-573e946583e0",
   "metadata": {},
   "source": [
    "## IV – PROC FREQ\n",
    "\n",
    "`PROC FREQ` generates **frequency statistics**, either **univariate** (like `PROC MEANS` or `PROC UNIVARIATE`) or **bivariate** (contingency tables).\n",
    "\n",
    "- Variables used to define categories (max **32767** categories) can be **character** or **numeric**.\n",
    "\n",
    "### Syntax:"
   ]
  },
  {
   "cell_type": "code",
   "execution_count": null,
   "id": "2af34530-15fb-40f0-ba1c-6a1b0133e602",
   "metadata": {},
   "outputs": [],
   "source": [
    "Proc Freq data=input_table options ; \n",
    "Tables variable_list / options ; \n",
    "BY variable(s) ; \n",
    "Weight variable ; \n",
    "Output out=output_table;\n",
    "Run;"
   ]
  },
  {
   "cell_type": "markdown",
   "id": "2b9fbea3-ec0b-4b2e-969e-8ba3202c6b79",
   "metadata": {},
   "source": [
    "**Important:** Unlike other Procs, the `Tables` instruction **replaces** `Var`.    \n",
    "### Example:"
   ]
  },
  {
   "cell_type": "code",
   "execution_count": null,
   "id": "a0437bf5-7782-4cfd-b518-def79143734d",
   "metadata": {},
   "outputs": [],
   "source": [
    "Proc Freq data=temp;\n",
    "Tables sexe csp;\n",
    "Run;"
   ]
  },
  {
   "cell_type": "markdown",
   "id": "4bd2186e-c85d-4c5b-a0ce-aa4ad03f191d",
   "metadata": {},
   "source": [
    "### Contingency Table Example :"
   ]
  },
  {
   "cell_type": "code",
   "execution_count": null,
   "id": "ad6f5c9f-955e-499d-9f07-dda669ffa179",
   "metadata": {},
   "outputs": [],
   "source": [
    "Proc Freq data=temp order=freq;\n",
    "Tables sexe*csp;\n",
    "Run;"
   ]
  },
  {
   "cell_type": "markdown",
   "id": "3226d396-e1a8-4261-b4ac-122eedc8d634",
   "metadata": {},
   "source": [
    "### Useful `Tables` Options:\n",
    "1) `Nofreq` → Hides frequencies.\n",
    "2) `Nopercent` → Hides percentages.\n",
    "3) `Norow` → Hides row percentages.\n",
    "4) `Nocol` → Hides column percentages.\n",
    "5) `Nocum` → Hides cumulative frequencies.\n",
    "6) `Missing` → Includes missing values in calculations.\n",
    "7) `Misprint` → Displays missing values but does not count them in percentages.\n"
   ]
  },
  {
   "cell_type": "markdown",
   "id": "c81bb192-98e0-4793-9ff5-93ea9528bdff",
   "metadata": {},
   "source": [
    "---"
   ]
  },
  {
   "cell_type": "markdown",
   "id": "d24dde73-3093-4885-abfb-a71ce8e71241",
   "metadata": {},
   "source": [
    "<br>\n",
    "\n",
    "<div align=\"center\">\n",
    "  <span style=\"font-family:'Lucida Calligraphy'; font-size:24px; color:Red;\">\n",
    "     THE END  Thank You\n",
    "  </span>\n",
    "</div>"
   ]
  },
  {
   "cell_type": "markdown",
   "id": "ba79a794-2e93-4791-b32a-37584e9c96c2",
   "metadata": {},
   "source": [
    "---"
   ]
  },
  {
   "cell_type": "code",
   "execution_count": null,
   "id": "167ac41b-336e-415c-a367-55d988882178",
   "metadata": {},
   "outputs": [],
   "source": []
  }
 ],
 "metadata": {
  "kernelspec": {
   "display_name": "Python 3 (ipykernel)",
   "language": "python",
   "name": "python3"
  },
  "language_info": {
   "codemirror_mode": {
    "name": "ipython",
    "version": 3
   },
   "file_extension": ".py",
   "mimetype": "text/x-python",
   "name": "python",
   "nbconvert_exporter": "python",
   "pygments_lexer": "ipython3",
   "version": "3.12.7"
  }
 },
 "nbformat": 4,
 "nbformat_minor": 5
}
