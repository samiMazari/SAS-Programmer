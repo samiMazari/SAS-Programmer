{
 "cells": [
  {
   "cell_type": "markdown",
   "id": "ed8dbcda-fbdb-4f37-9e31-9e8d4c2446bc",
   "metadata": {},
   "source": [
    "# Overview 2: Managing SAS Tables  \n",
    "\n",
    "In the first chapter, we covered the **DATA step** for creating SAS tables from external files or datasets.  \n",
    "\n",
    "This second chapter focuses on **modifying SAS tables** and **creating new tables** from existing ones.  \n",
    "\n",
    "\n",
    "\n",
    "## **I. Programming Syntax Rules**  \n",
    "\n",
    "Here are **four key rules** to remember:  \n",
    "\n",
    "1. **The DATA step (also applies to PROC)** → A command consists of statements and options. Options are always linked to a statement, but a statement does not always require an option.\n",
    " \n",
    "   \n"
   ]
  },
  {
   "cell_type": "code",
   "execution_count": null,
   "id": "b4131fef-0e96-4e7f-b485-7f8367bb0cdf",
   "metadata": {},
   "outputs": [],
   "source": [
    "Infile \"file_path\""
   ]
  },
  {
   "cell_type": "markdown",
   "id": "d70d53ac-abf2-4bcc-8282-661f76ef9647",
   "metadata": {},
   "source": [
    "   Here, `DLM=` is an option.  \n",
    "\n",
    "2. **A statement always ends with a semicolon (`;`).**  \n",
    "   - Forgetting `;` is a common error, which can be easily identified in the **Log window**.  \n",
    "   - **Two consecutive commas (`,,`) have no effect** on program execution (it creates an empty statement).  \n",
    "\n",
    "3. **Statements, variable names, and table names** can be written in **lowercase, uppercase, or mixed case**.  \n",
    "\n",
    "4. **A command can be written across multiple lines** (usually one line per statement).  \n",
    "   - A statement can start at any position in a line. This is useful for **nested loops**.  \n",
    "   - Since a statement ends with a `;`, it can span multiple lines, especially when using multiple options.  \n",
    "\n",
    "### **Two fundamental principles:**  \n",
    "1. Write a program that is **as readable and well-documented as possible** → Makes it easier to review.  \n",
    "2. Pay attention to **small programming errors**, as they are time-consuming (always read the documentation carefully!).\n",
    "     \n",
    "## **II. Modifying SAS Tables**  \n",
    "\n",
    "SAS can handle very **large datasets** (over **1 million observations** with dozens of variables).  \n",
    "\n",
    "- SAS processes **one observation at a time**.  \n",
    "- **Caution:** When using transformations like **cumulative sums** or **lag functions**, ensure they are correctly applied.  \n",
    "\n",
    "### **The `DATA` step as a loop over a table**  \n",
    "\n",
    "The `DATA` step executes **observation by observation** using the **Program Data Vector (PDV)**. "
   ]
  },
  {
   "cell_type": "code",
   "execution_count": null,
   "id": "c3c1961b-8b0b-49a2-9abb-8f53fbd17731",
   "metadata": {},
   "outputs": [],
   "source": [
    "Data temp;  \n",
    "    Set in.brevet;  \n",
    "    Instruction_1;  \n",
    "    Instruction_k;  \n",
    "Run;"
   ]
  },
  {
   "cell_type": "markdown",
   "id": "d60c7d18-8e6c-4420-8f21-f7b5f9e542af",
   "metadata": {},
   "source": [
    "- **`SET`** specifies the input table (`brevet`) stored in the `in` library.  \n",
    "- **`DATA`** creates the output table (`temp`).\n",
    "- #### **Important:**  \n",
    "- You can **read and write to the same table**: "
   ]
  },
  {
   "cell_type": "code",
   "execution_count": null,
   "id": "7f1b6cb3-6151-46d5-a2f4-ee0f9450a10e",
   "metadata": {},
   "outputs": [],
   "source": [
    "Data in.brevet;  \n",
    "      Set in.brevet;  \n",
    "  Run;"
   ]
  },
  {
   "cell_type": "markdown",
   "id": "7d224401-9cff-4191-a554-d9703a9b930f",
   "metadata": {},
   "source": [
    "### **How SAS processes data step by step:**  \n",
    "\n",
    "1. Takes the **first observation** from the input table.  \n",
    "2. Applies the instructions (`Instruction_1`, ..., `Instruction_k`).  \n",
    "3. Stores the transformed observation in the **output table**.  \n",
    "4. Resets counters and repeats the process **for each observation** until the last one.  \n",
    "5. **Challenge:** Performing cumulative calculations is difficult because SAS processes one observation at a time.\n",
    "   ## **A. Creating Variables**  "
   ]
  },
  {
   "cell_type": "markdown",
   "id": "1bd611d6-1436-456f-b7a2-22669269b2f9",
   "metadata": {},
   "source": [
    "## **A. Creating Variables**  \n",
    "\n",
    "When creating a **SAS table from an external file**, new variables are also created. However, new variables can also be derived from **existing variables**.  \n",
    "\n",
    "### **Rules for new variables:**  \n",
    "- Every new variable must have a **name** and a **type** (numeric or character).  \n",
    "- Labels and formats can also be assigned (see SAS documentation).  \n",
    "\n",
    "### **Character & Numeric Functions in SAS**  \n",
    "\n",
    "#### **Character Functions**  \n",
    "\n",
    "| Function | Description |\n",
    "|----------|------------|\n",
    "| `Length(x)` | Returns the length of `x`. |\n",
    "| `Compress(x, 'c')` | Removes characters `'c'` from `x`. |\n",
    "| `Repeat(x, n)` | Repeats `x` `n` times. |\n",
    "| `Index(x, y)` | Finds the position of `y` in `x`. |\n",
    "| `Upcase(x)` | Converts `x` to uppercase. |\n",
    "| `Lowcase(x)` | Converts `x` to lowercase. |\n",
    "| `Substr(x, n, l)` | Extracts `l` characters from `x`, starting at position `n`. |\n",
    "| `Scan(x, n, 'sp')` | Extracts the `n`-th word from `x`, using `sp` as a separator. |\n",
    "| `Tranwrd(x, y, z)` | Replaces all occurrences of `y` with `z` in `x`. |\n",
    "\n",
    "#### **Numeric Functions**  \n",
    "\n",
    "| Function | Description |\n",
    "|----------|------------|\n",
    "| `Floor(x)` | Returns the integer part of `x`. |\n",
    "| `Abs(x)` | Returns the absolute value of `x`. |\n",
    "| `Sign(x)` | Returns `1` if `x>0`, `-1` if `x<0`, `0` otherwise. |\n",
    "| `Round(x, a)` | Rounds `x` to precision `a`. |\n",
    "| `Max(x1, ..., xn)` | Returns the maximum value. |\n",
    "| `Min(x1, ..., xn)` | Returns the minimum value. |\n",
    "| `Mod(x, y)` | Returns the remainder of `x ÷ y`. |\n",
    "| `Sqrt(x)` | Returns the square root of `x`. |\n",
    "| `Exp(x)` | Returns `e^x`. |\n",
    "| `Log(x)` | Returns the natural logarithm of `x`. |\n",
    "\n",
    "---\n",
    "\n",
    "## **B. Filtering Observations**   \n",
    "Filtering is done using the `IF ... THEN ... ELSE` statement: "
   ]
  },
  {
   "cell_type": "code",
   "execution_count": null,
   "id": "01ceb562-32e8-49e8-aebe-924b270f14e0",
   "metadata": {},
   "outputs": [],
   "source": [
    "If brevet_2004 > 250 then output;\n",
    "If brevet_2005 < 300 then delete;"
   ]
  },
  {
   "cell_type": "markdown",
   "id": "4f11ae78-dcf3-444b-a3cc-bd9ba7f94648",
   "metadata": {},
   "source": [
    "### **Using `SELECT / WHEN` (Alternative to `IF ... THEN`)** "
   ]
  },
  {
   "cell_type": "code",
   "execution_count": null,
   "id": "48d3c4d4-cd42-4c4e-b7cb-893b6b6da06f",
   "metadata": {},
   "outputs": [],
   "source": [
    "Data temp;  \n",
    "    Set in.brevet;  \n",
    "    Select;  \n",
    "        When (brevet_2005 = .) efficacite = \"ind\";  \n",
    "        When (0 < brevet_2005 <= 50) efficacite = \"low\";  \n",
    "        When (50 < brevet_2005 <= 200) efficacite = \"medium\";  \n",
    "        When (brevet_2005 > 200) efficacite = \"high\";  \n",
    "        Otherwise efficacite = \"unknown\";  \n",
    "    End;  \n",
    "Run;"
   ]
  },
  {
   "cell_type": "markdown",
   "id": "fb390f4a-9457-4cec-ac6d-a74e9465ff9f",
   "metadata": {},
   "source": [
    "## **III. Selecting Variables (DROP, KEEP, RENAME)**"
   ]
  },
  {
   "cell_type": "code",
   "execution_count": null,
   "id": "c3f0580f-db1f-4bed-805e-44ccac39cbd2",
   "metadata": {},
   "outputs": [],
   "source": [
    "Data temp; Set in.brevet; Keep Brevet_2005; Run;\n",
    "Data temp; Set in.brevet; Drop Brevet_2005 Brevet_2004; Run;\n",
    "Data temp; Set in.brevet; Rename Brevet_2004 = Innovation_2004; Run;"
   ]
  },
  {
   "cell_type": "markdown",
   "id": "747c48b1-3326-4c1e-aa54-5ae5affbfa12",
   "metadata": {},
   "source": [
    "🔹 `SELECT` is **faster than multiple `IF ... THEN`** conditions.  "
   ]
  },
  {
   "cell_type": "markdown",
   "id": "e083a49a-150f-4237-80c0-48b3a14c682a",
   "metadata": {},
   "source": [
    "---"
   ]
  },
  {
   "cell_type": "code",
   "execution_count": null,
   "id": "126b2b3d-ab66-4371-9f3d-28c2b8533c84",
   "metadata": {},
   "outputs": [],
   "source": []
  }
 ],
 "metadata": {
  "kernelspec": {
   "display_name": "Python 3 (ipykernel)",
   "language": "python",
   "name": "python3"
  },
  "language_info": {
   "codemirror_mode": {
    "name": "ipython",
    "version": 3
   },
   "file_extension": ".py",
   "mimetype": "text/x-python",
   "name": "python",
   "nbconvert_exporter": "python",
   "pygments_lexer": "ipython3",
   "version": "3.12.7"
  }
 },
 "nbformat": 4,
 "nbformat_minor": 5
}
