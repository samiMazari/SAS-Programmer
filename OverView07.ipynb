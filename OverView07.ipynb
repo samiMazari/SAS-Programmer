{
 "cells": [
  {
   "cell_type": "markdown",
   "id": "faa8714e-31d9-4881-99a1-2072bf1b05ed",
   "metadata": {},
   "source": [
    "# Overview 7: SAS Macro Language"
   ]
  },
  {
   "cell_type": "markdown",
   "id": "013d1505-f405-4f52-9e5b-3ee49b3c662e",
   "metadata": {},
   "source": [
    "## Introduction\n",
    "\n",
    "The SAS Macro Language allows:\n",
    "- **Automation** of programs.\n",
    "- **Passing parameters** between DATA and PROC steps (also applies to PROC SQL, though not covered here).\n",
    "\n",
    "The macro language consists of:\n",
    "- **Macro variables** (`&table`)\n",
    "- **Macro instructions** (`%let`)\n",
    "- **Macro functions** (`%scan(...)`)\n",
    "- **Macro programs**: sequences of macro instructions and functions\n",
    "\n",
    "---\n",
    "\n",
    "## 1) Macro Variables\n",
    "\n",
    "### Declaration\n",
    "Macro variables are declared using the `%let` statement :"
   ]
  },
  {
   "cell_type": "code",
   "execution_count": null,
   "id": "03c238c6-805a-4e0b-8669-aab9016d5845",
   "metadata": {},
   "outputs": [],
   "source": [
    "%let ds = tablesas;                 /* A SAS table */\n",
    "%let path = c:\\users;              /* A file path */\n",
    "%let var1 = poids;                  /* A variable */\n",
    "%let var2 = taille;                  /* Another variable */\n",
    "%let varlist = sexe age taille poids;            /* A list of variables */"
   ]
  },
  {
   "cell_type": "markdown",
   "id": "1627593d-1f46-48ac-976b-455dbba08225",
   "metadata": {},
   "source": [
    "### Referencing a Macro Variable\n",
    "Use `&` to reference a macro variable :"
   ]
  },
  {
   "cell_type": "code",
   "execution_count": null,
   "id": "bb7f114d-eb6b-4b62-8d16-1052bc074e21",
   "metadata": {},
   "outputs": [],
   "source": [
    "proc plot data = &ds;\n",
    "  plot &var1 * &var2;\n",
    "  title \"Analysis of &ds\";\n",
    "  title2 \"For variables &varlist\";\n",
    "run;"
   ]
  },
  {
   "cell_type": "markdown",
   "id": "3c56e04b-d71c-43d5-9a78-57dade1b485f",
   "metadata": {},
   "source": [
    "### SAS Resolves the Program as :"
   ]
  },
  {
   "cell_type": "code",
   "execution_count": null,
   "id": "18a8f8fa-3704-46ef-8e79-4152d02cea6d",
   "metadata": {},
   "outputs": [],
   "source": [
    "proc plot data = tablesas;\n",
    "  plot poids * taille;\n",
    "  title \"Analysis of tablesas\";\n",
    "  title2 \"For variables sexe age taille poids\";\n",
    "run;"
   ]
  },
  {
   "cell_type": "markdown",
   "id": "19065e44-9bf6-4e70-ac92-307550b203ca",
   "metadata": {},
   "source": [
    "### Notes:\n",
    "- Macro variables are replaced by their values before execution.\n",
    "- Macro variables inside single quotes are **not resolved**.\n",
    "- Modifying macro variables applies changes dynamically.\n",
    "\n",
    "### Macro Variable Rules:\n",
    "- Names must start with a letter or `_`.\n",
    "- Max name length: **32 characters**.\n",
    "- Max content length: **65534 characters**.\n",
    "- `%put &ds;` prints macro variable values in the log.\n",
    "\n",
    "### Special Resolution Rules:\n",
    "| Syntax | Resolution |\n",
    "|--------|------------|\n",
    "| `&x&y` | Concatenates `x` and `y` values |\n",
    "| `&x.y` | Concatenates `x` value with string `y` |\n",
    "| `&&var` | Replaces `&&` with `&` before resolving |\n",
    "\n",
    "---\n",
    "\n",
    "## 2) Macro Instructions\n",
    "\n",
    "### `%let` Example:"
   ]
  },
  {
   "cell_type": "code",
   "execution_count": null,
   "id": "37ac1977-9f74-4d39-9bae-7da386df68a6",
   "metadata": {},
   "outputs": [],
   "source": [
    "%let country = France - Germany - Italy;\n",
    "%put &country;"
   ]
  },
  {
   "cell_type": "markdown",
   "id": "9636bbdb-46e0-45ff-aacb-a45bfae2e964",
   "metadata": {},
   "source": [
    "**Output:**"
   ]
  },
  {
   "cell_type": "code",
   "execution_count": null,
   "id": "a7444a1a-3283-4969-acea-5109a274e157",
   "metadata": {},
   "outputs": [],
   "source": [
    "France - Germany - Italy"
   ]
  },
  {
   "cell_type": "markdown",
   "id": "d12510e0-4a83-47db-b072-32d083d62911",
   "metadata": {},
   "source": [
    "### `%eval` for Calculations"
   ]
  },
  {
   "cell_type": "code",
   "execution_count": null,
   "id": "4c7ec265-92bd-4650-909f-20508d236c2e",
   "metadata": {},
   "outputs": [],
   "source": [
    "%let amount = 5+7;\n",
    "%put &amount;   /* Output: 5+7 */\n",
    "%let result = %eval(&amount);\n",
    "%put &result;   /* Output: 12 */"
   ]
  },
  {
   "cell_type": "markdown",
   "id": "4cdea8f1-dcf9-46cc-9746-15801154a59d",
   "metadata": {},
   "source": [
    "## 3) Macro Programs\n",
    "\n",
    "### Open Code Macros"
   ]
  },
  {
   "cell_type": "code",
   "execution_count": null,
   "id": "70316d27-13b7-4495-8127-89e0495176f8",
   "metadata": {},
   "outputs": [],
   "source": [
    "%let ds = tablesas;\n",
    "%let var1 = poids;\n",
    "%let var2 = taille;\n",
    "\n",
    "proc plot data = &ds;\n",
    "  plot &var1 * &var2;\n",
    "  title \"Analysis of &ds\";\n",
    "run;"
   ]
  },
  {
   "cell_type": "markdown",
   "id": "cef6e604-5cac-41b8-ac59-51c4bac9f6aa",
   "metadata": {},
   "source": [
    "### True Macro Programs"
   ]
  },
  {
   "cell_type": "code",
   "execution_count": null,
   "id": "a7846cd2-2cec-4e5e-b658-0c52563177c8",
   "metadata": {},
   "outputs": [],
   "source": [
    "%macro loop;\n",
    "%do i = 1 %to 10;\n",
    "  proc print data=tab&i;\n",
    "  title \"Example Loop\";\n",
    "  run;\n",
    "%end;\n",
    "%mend loop;\n",
    "\n",
    "%loop;"
   ]
  },
  {
   "cell_type": "markdown",
   "id": "10909d62-5680-4360-891b-c7b281d5a6a6",
   "metadata": {},
   "source": [
    "**Generated Code :**"
   ]
  },
  {
   "cell_type": "code",
   "execution_count": null,
   "id": "7366f178-8d63-4c22-953c-f14956867931",
   "metadata": {},
   "outputs": [],
   "source": [
    "proc print data=tab1; run;\n",
    "proc print data=tab2; run;\n",
    "...\n",
    "proc print data=tab10; run;"
   ]
  },
  {
   "cell_type": "markdown",
   "id": "e2d75acd-06da-477a-9d1a-5cb4e7307303",
   "metadata": {},
   "source": [
    "### Macros with Positional Parameters"
   ]
  },
  {
   "cell_type": "code",
   "execution_count": null,
   "id": "c94f534a-ecc6-4324-b439-5365c17214d2",
   "metadata": {},
   "outputs": [],
   "source": [
    "%macro print_table(table, var1, var2);\n",
    "  proc print data=&table;\n",
    "    var &var1 &var2;\n",
    "    title \"Example with Positional Parameters\";\n",
    "  run;\n",
    "%mend;\n",
    "\n",
    "%print_table(tab1, name, age);"
   ]
  },
  {
   "cell_type": "markdown",
   "id": "9a343207-8934-4777-b68c-06547ad18d0e",
   "metadata": {},
   "source": [
    "### Macros with Keyword Parameters"
   ]
  },
  {
   "cell_type": "code",
   "execution_count": null,
   "id": "77950e4b-589c-4a15-b6d7-1ae406c747ff",
   "metadata": {},
   "outputs": [],
   "source": [
    "%macro print_table(table=, vars=);\n",
    "  proc print data=&table;\n",
    "    var &vars;\n",
    "    title \"Example with Keyword Parameters\";\n",
    "  run;\n",
    "%mend;\n",
    "\n",
    "%print_table(table=tab1, vars=age poids);"
   ]
  },
  {
   "cell_type": "markdown",
   "id": "e5ae77c3-ac0d-4b90-9136-01ca80320dc4",
   "metadata": {},
   "source": [
    "## 4) Example Summary"
   ]
  },
  {
   "cell_type": "markdown",
   "id": "7fd82f04-a0cd-4eed-a724-13527a6e26d8",
   "metadata": {},
   "source": [
    "Create a macro that\n",
    "1. Displays table contents.\n",
    "2. Prints the first N observations.\n",
    "3. Creates a subset of the data based on year.\n",
    "4. Uses macro parameters dynamically."
   ]
  },
  {
   "cell_type": "code",
   "execution_count": null,
   "id": "9de4f411-6af2-4f79-bb5a-9d2a4adf9a9b",
   "metadata": {},
   "outputs": [],
   "source": [
    "%macro info(table, year, obs);\n",
    "  proc contents data=in.&table;\n",
    "  title \"Table: &table\";\n",
    "  run;\n",
    "\n",
    "  proc print data=in.&table (obs=&obs);\n",
    "  title \"First &obs observations of &table\";\n",
    "  run;\n",
    "\n",
    "  data &table&year;\n",
    "    set in.&table;\n",
    "    if an = &year;\n",
    "  run;\n",
    "\n",
    "  proc print data=&table&year;\n",
    "  title \"Subset &table&year\";\n",
    "  run;\n",
    "%mend;\n",
    "\n",
    "%info(prod1, 94, 10);"
   ]
  },
  {
   "cell_type": "markdown",
   "id": "187f0d8a-7764-469d-bb07-b8753fec8ec6",
   "metadata": {},
   "source": [
    "## 5) Macro Functions\n",
    "\n",
    "### `%index`: Find Position of a Substring"
   ]
  },
  {
   "cell_type": "code",
   "execution_count": null,
   "id": "cdf115a8-0f70-42fa-a62d-537757d22dcb",
   "metadata": {},
   "outputs": [],
   "source": [
    "%let countries = France - Germany - Italy - Spain;\n",
    "%let pos = %index(&countries, Germany);\n",
    "%put &pos; /* Output: 10 */"
   ]
  },
  {
   "cell_type": "markdown",
   "id": "b23875be-9530-487d-9322-31939f142dbe",
   "metadata": {},
   "source": [
    "### `%length`: Get Length of a Macro Variable"
   ]
  },
  {
   "cell_type": "code",
   "execution_count": null,
   "id": "20511f0b-cf31-4c31-9104-709424cb7d25",
   "metadata": {},
   "outputs": [],
   "source": [
    "%let length = %length(&countries);\n",
    "%put &length; /* Output: 31 */"
   ]
  },
  {
   "cell_type": "markdown",
   "id": "249ad368-0edb-41c8-ae6c-e6ba086bd7c8",
   "metadata": {},
   "source": [
    "### `%substr`: Extract Part of a String"
   ]
  },
  {
   "cell_type": "code",
   "execution_count": null,
   "id": "552107a6-0be5-4880-b94a-30655a115d47",
   "metadata": {},
   "outputs": [],
   "source": [
    "%put %substr(&countries, 8, 7); /* Output: Germany */"
   ]
  },
  {
   "cell_type": "markdown",
   "id": "386d0b5f-467a-4441-b5e1-bfc82a3ab0bf",
   "metadata": {},
   "source": [
    "### `%upcase`: Convert to Uppercase"
   ]
  },
  {
   "cell_type": "code",
   "execution_count": null,
   "id": "147dff19-ac1e-4a5e-8a35-d143cc972261",
   "metadata": {},
   "outputs": [],
   "source": [
    "%put %upcase(&countries); /* Output: FRANCE - GERMANY - ITALY - SPAIN */"
   ]
  },
  {
   "cell_type": "markdown",
   "id": "a7649bcb-a0f8-468c-b0d1-0d7efd06cf0a",
   "metadata": {},
   "source": [
    "### `%eval`: Perform Integer Calculations"
   ]
  },
  {
   "cell_type": "code",
   "execution_count": null,
   "id": "1042f029-b5c0-4310-9c36-384f29683759",
   "metadata": {},
   "outputs": [],
   "source": [
    "%let i = 1;\n",
    "%let j = &i + 2;\n",
    "%let k = %eval(&i + 9);\n",
    "%put &j; /* Output: 1+2 */\n",
    "%put &k; /* Output: 10 */"
   ]
  },
  {
   "cell_type": "code",
   "execution_count": null,
   "id": "fd5583c2-3d84-4e58-97f6-aba8b8a135b5",
   "metadata": {},
   "outputs": [],
   "source": []
  },
  {
   "cell_type": "code",
   "execution_count": null,
   "id": "971b7216-28dd-4e40-8c2d-55c288291dd5",
   "metadata": {},
   "outputs": [],
   "source": []
  },
  {
   "cell_type": "code",
   "execution_count": null,
   "id": "4d63cecc-0e31-4314-ad55-4470dc36d693",
   "metadata": {},
   "outputs": [],
   "source": []
  }
 ],
 "metadata": {
  "kernelspec": {
   "display_name": "Python 3 (ipykernel)",
   "language": "python",
   "name": "python3"
  },
  "language_info": {
   "codemirror_mode": {
    "name": "ipython",
    "version": 3
   },
   "file_extension": ".py",
   "mimetype": "text/x-python",
   "name": "python",
   "nbconvert_exporter": "python",
   "pygments_lexer": "ipython3",
   "version": "3.12.7"
  }
 },
 "nbformat": 4,
 "nbformat_minor": 5
}
