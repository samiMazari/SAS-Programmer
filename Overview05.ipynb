{
 "cells": [
  {
   "cell_type": "markdown",
   "id": "a9e7e3d8-2228-4649-8c2a-049bd50e6780",
   "metadata": {},
   "source": [
    "# Chapter 5: Additional Procedures and Instructions\n",
    "\n",
    "## Topics Covered\n",
    "\n",
    "This chapter covers six key topics :\n",
    "\n",
    "1) **Econometric procedure (`proc reg`)**\n",
    "2) **Statistical procedure (`proc corr`)**\n",
    "3) **Graphical procedures (`proc gplot`, `proc gchart`)**\n",
    "4) **The `retain` statement**\n",
    "5) **The `proc tabulate` procedure**\n",
    "\n",
    "---"
   ]
  },
  {
   "cell_type": "markdown",
   "id": "80132f9d-32c2-4fe2-8c69-c349de2de89c",
   "metadata": {},
   "source": [
    "## 1) `proc reg`: Estimation of MLS/MLM using OLS\n",
    "\n",
    "### Dataset\n",
    "\n",
    "- `Rt` → Weekly revenue from hamburger sales (in $1000s)\n",
    "- `Pt` → Price of a hamburger (in $)\n",
    "- `PUBt` → Advertising expenses (in $1000s)\n",
    "\n",
    "We estimate the model :"
   ]
  },
  {
   "cell_type": "code",
   "execution_count": null,
   "id": "f95b45f7-11c2-44ca-ba33-1aac702f97e5",
   "metadata": {},
   "outputs": [],
   "source": [
    "Rt = b1 + b2*Pt + b3*PUBt + ut"
   ]
  },
  {
   "cell_type": "markdown",
   "id": "8fb2c904-afcb-44d1-b6bf-b7a13c0243cf",
   "metadata": {},
   "source": [
    "### Syntax"
   ]
  },
  {
   "cell_type": "code",
   "execution_count": null,
   "id": "35a7a704-5e76-4a2f-8801-02818ff49e4a",
   "metadata": {},
   "outputs": [],
   "source": [
    "proc reg data=input_table <options>;\n",
    "model dependent_var = independent_vars / <options>;\n",
    "output out=output_table keywords=var_name ...;\n",
    "plot var1*var2 ...;\n",
    "test ...;\n",
    "run;"
   ]
  },
  {
   "cell_type": "markdown",
   "id": "0daf624c-dc6e-4563-8d06-9f807fec9403",
   "metadata": {},
   "source": [
    "### Options\n",
    "\n",
    "- `noint` → Removes intercept\n",
    "- `adjrsq` → Displays adjusted R²\n",
    "- `covb` → Displays covariance matrix of parameter estimates\n",
    "- `dw` → Computes Durbin-Watson statistic\n",
    "\n",
    "### Example"
   ]
  },
  {
   "cell_type": "code",
   "execution_count": null,
   "id": "07bdf503-4239-4e4e-b383-2fdc5607a6ad",
   "metadata": {},
   "outputs": [],
   "source": [
    "proc reg data=in.hamburger;\n",
    "model r = p pub / covb;\n",
    "test1: test p = 0;\n",
    "test2: test p = 1;\n",
    "test3: test p + pub = 0;\n",
    "plot r * p;\n",
    "title 'PROC REG - Example 1';\n",
    "run;"
   ]
  },
  {
   "cell_type": "markdown",
   "id": "5a294852-426d-4590-ac92-bc791ced7e27",
   "metadata": {},
   "source": [
    "## 2) `proc corr`: Linear Correlation\n",
    "\n",
    "### Syntax"
   ]
  },
  {
   "cell_type": "code",
   "execution_count": null,
   "id": "affa8ef0-9fad-4f11-9311-a13627fa589a",
   "metadata": {},
   "outputs": [],
   "source": [
    "proc corr data=input_table <options>;\n",
    "var var1 var2 ...;\n",
    "with var3 var4 ...;\n",
    "run;"
   ]
  },
  {
   "cell_type": "markdown",
   "id": "228539a5-4cac-467d-b10f-91655f4e8ba5",
   "metadata": {},
   "source": [
    "### Options\n",
    "\n",
    "- `pearson` → Pearson correlation (default)\n",
    "- `outp=` → Outputs correlation matrix to a table\n",
    "- `cov` → Computes variance-covariance matrix\n",
    "- `nosimple` → Suppresses descriptive stats\n",
    "- `noprob` → Omits p-values\n",
    "- `partial varx` → Computes correlation while controlling for `varx`\n",
    "\n",
    "### Example\n"
   ]
  },
  {
   "cell_type": "code",
   "execution_count": null,
   "id": "e5dfc4fe-dcf8-41bf-959a-3f81810f7af0",
   "metadata": {},
   "outputs": [],
   "source": [
    "proc corr data=in.hamburger cov outp=result;\n",
    "var r p pub;\n",
    "title 'PROC CORR - Example 1a';\n",
    "run;\n",
    "\n",
    "proc print data=result;\n",
    "title 'Example 1 - Output = result';\n",
    "run;"
   ]
  },
  {
   "cell_type": "markdown",
   "id": "9cc0678a-b84c-415d-8b70-1311250ead8f",
   "metadata": {},
   "source": [
    "## 3) Graphical Procedures (`proc gplot`, `proc gchart`)\n",
    "\n",
    "### Example dataset:\n",
    "\n",
    "- `ide` → Unique company ID\n",
    "- `an` → Year (1993-1998)\n",
    "- `k, l, va, w` → Capital stock, labor quantity, added value, average salary\n",
    "- `Nace` → Sector code (0-9)\n",
    "\n",
    "### `proc gplot`"
   ]
  },
  {
   "cell_type": "code",
   "execution_count": null,
   "id": "bc517134-6cc8-402f-aa5e-d505816a07de",
   "metadata": {},
   "outputs": [],
   "source": [
    "proc gplot data=temp;\n",
    "plot va*l;\n",
    "run; quit;"
   ]
  },
  {
   "cell_type": "markdown",
   "id": "ba0beab7-54a9-4adb-87fe-eac09c4931d7",
   "metadata": {},
   "source": [
    "#### Additional Options\n",
    "\n",
    "- `overlay` → Superimposes multiple plots\n",
    "- `symbol1 i=rl v=dot cv=green co=red;`\n",
    "- `axis1 label=('Log Labor');`"
   ]
  },
  {
   "cell_type": "code",
   "execution_count": null,
   "id": "7dacabb2-2b36-4b58-b775-92fa711788a5",
   "metadata": {},
   "outputs": [],
   "source": [
    "proc gplot data=in.production_cours;\n",
    "plot lk*ll / haxis=axis1 vaxis=axis2 legend=legend1;\n",
    "run; quit;"
   ]
  },
  {
   "cell_type": "markdown",
   "id": "95e0e404-6ea6-4e0e-a5b8-2e12f0b252b2",
   "metadata": {},
   "source": [
    "### `proc gchart`"
   ]
  },
  {
   "cell_type": "code",
   "execution_count": null,
   "id": "8316be03-668c-4866-ad2b-874d15099a59",
   "metadata": {},
   "outputs": [],
   "source": [
    "proc gchart data=input_table;\n",
    "vbar variable;\n",
    "run; quit;"
   ]
  },
  {
   "cell_type": "markdown",
   "id": "7aa84829-3843-4a54-ab6e-07e16f82a5a8",
   "metadata": {},
   "source": [
    "#### Additional Options\n",
    "\n",
    "- `hbar | vbar` → Creates bar charts\n",
    "- `pie | pie3d | donut` → Creates pie charts\n",
    "\n",
    "Example:"
   ]
  },
  {
   "cell_type": "code",
   "execution_count": null,
   "id": "2f813d33-aac3-4f67-a4cf-39db1695a54f",
   "metadata": {},
   "outputs": [],
   "source": [
    "proc gchart data=in.production_cours;\n",
    "vbar nace / discrete;\n",
    "title 'Discrete Variable Chart';\n",
    "run; quit;"
   ]
  },
  {
   "cell_type": "markdown",
   "id": "69a11573-f146-46e2-a183-ea72f86e343c",
   "metadata": {},
   "source": [
    "## 4) The `retain` Statement\n",
    "\n",
    "### Syntax\n"
   ]
  },
  {
   "cell_type": "code",
   "execution_count": null,
   "id": "32a8200b-869f-4e86-8834-df4199b47c13",
   "metadata": {},
   "outputs": [],
   "source": [
    "retain variable(s) initial_value(s);"
   ]
  },
  {
   "cell_type": "markdown",
   "id": "3a401c15-34b8-4e96-a176-4958f9be828f",
   "metadata": {},
   "source": [
    "**Example :**"
   ]
  },
  {
   "cell_type": "code",
   "execution_count": null,
   "id": "8b65ba9f-3126-4976-a558-3b7bd817f49b",
   "metadata": {},
   "outputs": [],
   "source": [
    "data contracts;\n",
    "set contracts;\n",
    "retain numobs 0;\n",
    "numobs = numobs + 1;\n",
    "run;"
   ]
  },
  {
   "cell_type": "markdown",
   "id": "e287312e-d0e9-4733-81ff-8e8f31472d13",
   "metadata": {},
   "source": [
    "**Another example :**"
   ]
  },
  {
   "cell_type": "code",
   "execution_count": null,
   "id": "5e23a1a7-c1fb-432c-8ca9-4fe058e9c155",
   "metadata": {},
   "outputs": [],
   "source": [
    "data contracts;\n",
    "set contracts;\n",
    "retain total_contracts 0;\n",
    "total_contracts = total_contracts + nbrctr;\n",
    "run;"
   ]
  },
  {
   "cell_type": "markdown",
   "id": "e986374b-64c9-474a-9cfa-139c342c5dc8",
   "metadata": {},
   "source": [
    "## 5) `proc tabulate`: Statistical Table Creation\n",
    "\n",
    "### Syntax"
   ]
  },
  {
   "cell_type": "code",
   "execution_count": null,
   "id": "630f5d50-7cbe-4635-9632-6586c9f02a00",
   "metadata": {},
   "outputs": [],
   "source": [
    "proc tabulate data=input_table <options>;\n",
    "class variables;\n",
    "var numeric_variables;\n",
    "table ...;\n",
    "run;"
   ]
  },
  {
   "cell_type": "markdown",
   "id": "1b96dac0-065d-46a0-9a5d-7e481d25338e",
   "metadata": {},
   "source": [
    "### Example"
   ]
  },
  {
   "cell_type": "code",
   "execution_count": null,
   "id": "b508c99d-8b56-4e9b-aa6c-1f10c7bb3121",
   "metadata": {},
   "outputs": [],
   "source": [
    "proc tabulate data=temp;\n",
    "var actual;\n",
    "class country product;\n",
    "table (country='Country' all='Total'), (product='Product' all='Total') * (actual*(n='Count' mean='Avg.'));\n",
    "title 'Sales Distribution by Country and Product';\n",
    "run;"
   ]
  },
  {
   "cell_type": "markdown",
   "id": "dac8f707-1886-4471-bfbe-07fc7e331d3e",
   "metadata": {},
   "source": [
    "---"
   ]
  },
  {
   "cell_type": "markdown",
   "id": "38ca01bf-80c3-4a8f-b659-b0bd4611f4cb",
   "metadata": {},
   "source": [
    "<br>\n",
    "\n",
    "<div align=\"center\">\n",
    "  <span style=\"font-family: sans-serif; font-size: 24px; color: Black;\">\n",
    "     This document provides an overview of advanced SAS procedures used for reporting and data mining.\n",
    "  </span>\n",
    "</div>"
   ]
  },
  {
   "cell_type": "markdown",
   "id": "13f4122c-df47-49fd-822a-4150a897bc6c",
   "metadata": {},
   "source": [
    "---"
   ]
  },
  {
   "cell_type": "markdown",
   "id": "53d114bb-a729-4d51-b8f1-eedeb240d4d9",
   "metadata": {},
   "source": [
    "<br>\n",
    "\n",
    "<div align=\"center\">\n",
    "  <span style=\"font-family:'Lucida Calligraphy'; font-size:24px; color:Red;\">\n",
    "     THE END  -- Thank You --\n",
    "  </span>\n",
    "</div>"
   ]
  },
  {
   "cell_type": "code",
   "execution_count": null,
   "id": "c419a255-e3e7-4c50-89a9-07c217d35a76",
   "metadata": {},
   "outputs": [],
   "source": []
  }
 ],
 "metadata": {
  "kernelspec": {
   "display_name": "Python 3 (ipykernel)",
   "language": "python",
   "name": "python3"
  },
  "language_info": {
   "codemirror_mode": {
    "name": "ipython",
    "version": 3
   },
   "file_extension": ".py",
   "mimetype": "text/x-python",
   "name": "python",
   "nbconvert_exporter": "python",
   "pygments_lexer": "ipython3",
   "version": "3.12.7"
  }
 },
 "nbformat": 4,
 "nbformat_minor": 5
}
