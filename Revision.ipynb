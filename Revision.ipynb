{
 "cells": [
  {
   "cell_type": "markdown",
   "id": "d1d2aef3-178c-453d-9680-a1ef957750a6",
   "metadata": {
    "panel-layout": {
     "height": 225.984375,
     "visible": true,
     "width": 100
    }
   },
   "source": [
    " # Chapter 1: Creating SAS Tables      \n",
    "**Three Possible Modes of Creation**       \n",
    "\n",
    "   1-Importing existing data from common formats (e.g., Excel).      \n",
    "   2-Directly entering data into a SAS program.     \n",
    "   3-Reading external data in ASCII format.     \n",
    "\n",
    "I - Importing Data from Excel Format : \n",
    "The PROC IMPORT procedure allows importing Excel files into SAS."
   ]
  },
  {
   "cell_type": "code",
   "execution_count": null,
   "id": "d88b1c38-b991-4ff8-8346-fcb64ccd210f",
   "metadata": {},
   "outputs": [],
   "source": [
    "proc import\n",
    "    out=test\n",
    "    datafile=\"c:\\documents\\test.xls\"\n",
    "    dbms=xls replace;\n",
    "    sheet=\"Sheet1\";\n",
    "    getnames=yes;\n",
    "    range=\"Sheet1$A1:C12\";\n",
    "    mixed=yes;\n",
    "run;"
   ]
  },
  {
   "cell_type": "markdown",
   "id": "9a4f7132-8af2-4843-a238-46b9e4643f9d",
   "metadata": {},
   "source": [
    "**Important Points**     \n",
    "\n",
    "Each SAS statement must end with a semicolon (;).       \n",
    "SAS accepts both uppercase and lowercase code.        \n",
    "Before importing Excel data, ensure:       \n",
    "  - Missing values are represented by empty cells.\n",
    "  - Decimal values use commas.     \n",
    "  - Variable names are on the first row."
   ]
  },
  {
   "cell_type": "markdown",
   "id": "45558236-a41f-4eaf-b677-04f72b7ac98e",
   "metadata": {},
   "source": [
    "**Explanation of Parameters**   \n",
    " - OUT specifies the name of the output SAS table.      \n",
    " - DBMS indicates the file format (e.g., xls for Excel versions 2003, 2007, or 2010).          \n",
    " - REPLACE overwrites any existing SAS table with the same name.       \n",
    " - SHEET specifies the sheet name to import.      \n",
    " - GETNAMES=YES uses the first row as variable names.     \n",
    " - RANGE specifies the portion of the sheet to import.     \n",
    " - MIXED=YES allows importing mixed-type variables, treating them as character type.   "
   ]
  },
  {
   "cell_type": "markdown",
   "id": "6b9c095b-8884-4cee-8f08-98acb3ccdcbc",
   "metadata": {},
   "source": [
    "**Alternative: Using the Import Wizard**      \n",
    " 1 - From the main menu, choose File -> Import Data....      \n",
    " 2 - Follow the steps in the wizard:      \n",
    "  - Click \"Next\" in the first window.     \n",
    "  - In the \"Connect to MS Excel\" window, browse to select the Excel file.     \n",
    "  - Select the sheet and click \"OK.\"     \n",
    "  - Specify the library (permanent or temporary) where the SAS table will be stored.     \n",
    "  - Assign a name to the SAS table.     \n",
    "  - Click \"Finish.\"      \n",
    "\n",
    "**Storing SAS Tables**    \n",
    " 1 - Temporary Library (WORK):    \n",
    "   - Contents are deleted when you exit SAS.    \n",
    " 2 - Permanent Library:    \n",
    "   - Define using the LIBNAME statement, e.g.,   "
   ]
  },
  {
   "cell_type": "code",
   "execution_count": null,
   "id": "29f174ef-ba03-4148-a073-1489f0854deb",
   "metadata": {},
   "outputs": [],
   "source": [
    "libname in \"d:\\mathieu\\data\\\";"
   ]
  },
  {
   "cell_type": "markdown",
   "id": "086f3997-7793-4b9d-9082-6071b56faf76",
   "metadata": {},
   "source": [
    " - This assigns a logical name (in) to a physical directory."
   ]
  },
  {
   "cell_type": "markdown",
   "id": "a81d5ffe-bae7-4b23-b136-a2580e0a7453",
   "metadata": {},
   "source": [
    "**Clearing Libraries**    \n",
    " - To remove a library:"
   ]
  },
  {
   "cell_type": "code",
   "execution_count": null,
   "id": "3f244d94-ca0d-4a22-8a57-e08b261aad9b",
   "metadata": {},
   "outputs": [],
   "source": [
    "libname in clear;\n",
    "run;"
   ]
  },
  {
   "cell_type": "markdown",
   "id": "a65b8c0c-32b2-4a91-9e56-6555ced7635a",
   "metadata": {},
   "source": [
    "- To remove all libraries:"
   ]
  },
  {
   "cell_type": "code",
   "execution_count": null,
   "id": "e07787cb-bad8-4d8e-a9e7-e12174948f15",
   "metadata": {},
   "outputs": [],
   "source": [
    "libname clear _all_;\n",
    "run;"
   ]
  },
  {
   "cell_type": "markdown",
   "id": "0e31ddad-f4b5-4df8-b7f0-49dbbf74f6d0",
   "metadata": {},
   "source": [
    "II - **Direct Data Entry**"
   ]
  },
  {
   "cell_type": "markdown",
   "id": "c2c1ef53-2fa4-4d88-bc31-75ebb2ebc149",
   "metadata": {},
   "source": [
    "- For small datasets, directly entering data is quicker."
   ]
  },
  {
   "cell_type": "code",
   "execution_count": null,
   "id": "acd40cff-f6bd-4e7d-bb6e-033bfee71b14",
   "metadata": {},
   "outputs": [],
   "source": [
    "data in.test;\n",
    "    input store $ sales advertising;\n",
    "    datalines;\n",
    "    Auchan 164 34\n",
    "    Carrefour 138 36\n",
    "    Lidl 85 179\n",
    "    Franprix 168 45\n",
    "    Aldi 201 67\n",
    "    ;\n",
    "run;"
   ]
  },
  {
   "cell_type": "markdown",
   "id": "1ad1a906-d18e-463b-a0a1-85107957155c",
   "metadata": {},
   "source": [
    "*Notes*         \n",
    "\n",
    "1 - In the DATA step, DATALINES (or CARDS) is used for manual data entry.        \n",
    "2 - Variables must be defined:     \n",
    "  - Use dollar sign for character variables.     \n",
    "  - Numeric variables do not require special notation.       \n",
    "3 - Always end the DATA step with a RUN statement.     \n",
    "4 - Use LIST before DATALINES to print the input data in the SAS log for debugging.          \n",
    "5- Missing values are represented by a period (.).          \n",
    "6 - Use & with $ to allow spaces in character values.\n",
    "\n",
    "**III - Reading External Data**\n",
    "  - Fixed-Column Format"
   ]
  },
  {
   "cell_type": "code",
   "execution_count": null,
   "id": "62af8195-7699-45dc-b82d-f146b82435d7",
   "metadata": {},
   "outputs": [],
   "source": [
    "data in.test;\n",
    "    infile \"d:\\mathieu\\data\\test.txt\";\n",
    "    input store $1-9 sales 10-15 advertising 16-22;\n",
    "run;"
   ]
  },
  {
   "cell_type": "markdown",
   "id": "3d393edd-6d59-4b36-a4a2-6428f9c7e2c1",
   "metadata": {},
   "source": [
    "- INFILE specifies the external file path.              \n",
    "- INPUT defines variable positions within the file."
   ]
  },
  {
   "cell_type": "markdown",
   "id": "40e2e5db-7c74-4ea7-8b06-beae7db24838",
   "metadata": {},
   "source": [
    "**Delimited Format**"
   ]
  },
  {
   "cell_type": "code",
   "execution_count": null,
   "id": "f50e041e-6817-440e-ade1-cbcd8ebc68cd",
   "metadata": {},
   "outputs": [],
   "source": [
    "data in.test;\n",
    "    infile \"d:\\mathieu\\data\\test.txt\" dlm=';';\n",
    "    input store $ sales advertising;\n",
    "run;"
   ]
  },
  {
   "cell_type": "markdown",
   "id": "75120396-596e-4827-b378-0f6679e55efd",
   "metadata": {},
   "source": [
    " - Use DLM to specify delimiters (e.g., ;, ,, or space).     \n",
    " - Ensure consistent formatting to avoid parsing errors."
   ]
  },
  {
   "cell_type": "markdown",
   "id": "83f007ff-4cb9-41b0-a634-23280a1560a2",
   "metadata": {},
   "source": [
    "*Validation*\n",
    "\n",
    "1 - Check the SAS log.\n",
    "\n",
    "2 - Use PROC PRINT or PROC CONTENTS:"
   ]
  },
  {
   "cell_type": "code",
   "execution_count": null,
   "id": "2d589375-72b7-4b0c-86aa-17ed7e1e362c",
   "metadata": {},
   "outputs": [],
   "source": [
    "proc print data=in.test;\n",
    "run;\n",
    "\n",
    "proc contents data=in.test;\n",
    "run;"
   ]
  },
  {
   "cell_type": "markdown",
   "id": "a2d16ae4-1ddc-4a49-9219-64a45589c541",
   "metadata": {},
   "source": [
    "**IV - Characteristics of SAS Tables and Variables**    \n",
    "1 - SAS tables are stored as files with the .sas7bdat extension.            \n",
    "2 - SAS programs use the .sas extension, while logs and outputs use .log and .lst, respectively.         \n",
    "3 - SAS variables:             \n",
    " - Numeric Variables: Support decimals (e.g., 5.31, 1E3).                       \n",
    " - Character Variables: Maximum length is 32,767 characters.         \n",
    " - Missing numeric values are represented as .; missing character values are blank ('').                           \n",
    "\n",
    "4- Naming Rules:          \n",
    "  - Names must be 1-32 characters long.                    \n",
    "  - Begin with a letter or underscore (_).                           \n",
    "  - Avoid special characters and reserved names (e.g., _ALL_, _NUMERIC_).                     "
   ]
  },
  {
   "cell_type": "code",
   "execution_count": null,
   "id": "c6649e17-549a-4ef3-a3e6-7214f2605c3f",
   "metadata": {},
   "outputs": [],
   "source": []
  }
 ],
 "metadata": {
  "kernelspec": {
   "display_name": "Python 3 (ipykernel)",
   "language": "python",
   "name": "python3"
  },
  "language_info": {
   "codemirror_mode": {
    "name": "ipython",
    "version": 3
   },
   "file_extension": ".py",
   "mimetype": "text/x-python",
   "name": "python",
   "nbconvert_exporter": "python",
   "pygments_lexer": "ipython3",
   "version": "3.12.7"
  },
  "panel-cell-order": [
   "fd31b53c-11d2-4632-b44a-af93dd2dd8c5"
  ]
 },
 "nbformat": 4,
 "nbformat_minor": 5
}
